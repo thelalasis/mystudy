{
 "cells": [
  {
   "cell_type": "markdown",
   "metadata": {
    "toc-hr-collapsed": false
   },
   "source": [
    "# Kaggle数据集\"Airplane Crashes Since 1908\"分析学习\n",
    "\n",
    "> 数据来源:https://www.kaggle.com/saurograndi/airplane-crashes-since-1908"
   ]
  },
  {
   "cell_type": "code",
   "execution_count": null,
   "metadata": {},
   "outputs": [],
   "source": [
    "import pandas as pd\n",
    "import numpy as np\n",
    "from matplotlib import pyplot as plt\n",
    "import matplotlib\n",
    "from pylab import *\n",
    "plt.rcParams['font.sans-serif']=['simhei']    #设置中文显示\n",
    "plt.rcParams['axes.unicode_minus']=False    #设置负号的显示\n",
    "matplotlib.rcParams['figure.figsize'] = (12.0, 8.0)    #设置图片大小"
   ]
  },
  {
   "cell_type": "code",
   "execution_count": null,
   "metadata": {},
   "outputs": [],
   "source": [
    "%matplotlib inline"
   ]
  },
  {
   "cell_type": "code",
   "execution_count": null,
   "metadata": {},
   "outputs": [],
   "source": [
    "ac = pd.read_csv('./Airplane_Crashes_and_Fatalities_Since_1908.csv')"
   ]
  },
  {
   "cell_type": "code",
   "execution_count": null,
   "metadata": {},
   "outputs": [
    {
     "data": {
      "text/html": [
       "<div>\n",
       "<style>\n",
       "    .dataframe thead tr:only-child th {\n",
       "        text-align: right;\n",
       "    }\n",
       "\n",
       "    .dataframe thead th {\n",
       "        text-align: left;\n",
       "    }\n",
       "\n",
       "    .dataframe tbody tr th {\n",
       "        vertical-align: top;\n",
       "    }\n",
       "</style>\n",
       "<table border=\"1\" class=\"dataframe\">\n",
       "  <thead>\n",
       "    <tr style=\"text-align: right;\">\n",
       "      <th></th>\n",
       "      <th>Date</th>\n",
       "      <th>Time</th>\n",
       "      <th>Location</th>\n",
       "      <th>Operator</th>\n",
       "      <th>Flight #</th>\n",
       "      <th>Route</th>\n",
       "      <th>Type</th>\n",
       "      <th>Registration</th>\n",
       "      <th>cn/In</th>\n",
       "      <th>Aboard</th>\n",
       "      <th>Fatalities</th>\n",
       "      <th>Ground</th>\n",
       "      <th>Summary</th>\n",
       "    </tr>\n",
       "  </thead>\n",
       "  <tbody>\n",
       "    <tr>\n",
       "      <th>0</th>\n",
       "      <td>09/17/1908</td>\n",
       "      <td>17:18</td>\n",
       "      <td>Fort Myer, Virginia</td>\n",
       "      <td>Military - U.S. Army</td>\n",
       "      <td>NaN</td>\n",
       "      <td>Demonstration</td>\n",
       "      <td>Wright Flyer III</td>\n",
       "      <td>NaN</td>\n",
       "      <td>1</td>\n",
       "      <td>2.0</td>\n",
       "      <td>1.0</td>\n",
       "      <td>0.0</td>\n",
       "      <td>During a demonstration flight, a U.S. Army fly...</td>\n",
       "    </tr>\n",
       "  </tbody>\n",
       "</table>\n",
       "</div>"
      ],
      "text/plain": [
       "         Date   Time             Location              Operator Flight #  \\\n",
       "0  09/17/1908  17:18  Fort Myer, Virginia  Military - U.S. Army      NaN   \n",
       "\n",
       "           Route              Type Registration cn/In  Aboard  Fatalities  \\\n",
       "0  Demonstration  Wright Flyer III          NaN     1     2.0         1.0   \n",
       "\n",
       "   Ground                                            Summary  \n",
       "0     0.0  During a demonstration flight, a U.S. Army fly...  "
      ]
     },
     "execution_count": 4,
     "metadata": {},
     "output_type": "execute_result"
    }
   ],
   "source": [
    "ac.head(1)"
   ]
  },
  {
   "cell_type": "markdown",
   "metadata": {},
   "source": [
    "## 基本情况\n",
    "\n",
    ">Analysis of the public dataset: \"Airplane Crashes and Fatalities Since 1908\" (Full history of airplane crashes throughout the world, from 1908-present) hosted by Open Data by Socrata available at:\n",
    "https://opendata.socrata.com/Government/Airplane-Crashes-and-Fatalities-Since-1908/q2te-8cvq\n",
    "Questions\n",
    "- Yearly how many planes crashed? how many people were on board? how many survived? how many died?\n",
    "- Highest number of crashes by operator and Type of aircrafts.\n",
    "- ‘Summary’ field has the details about the crashes. Find the reasons of the crash and categorize them in different clusters i.e Fire, shot down, weather (for the ‘Blanks’ in the data category can be UNKNOWN) you are open to make clusters of your choice but they should not exceed 7.\n",
    "- Find the number of crashed aircrafts and number of deaths against each category from above step.\n",
    "- Find any interesting trends/behaviors that you encounter when you analyze the dataset.\n"
   ]
  },
  {
   "cell_type": "markdown",
   "metadata": {
    "toc-hr-collapsed": false
   },
   "source": [
    "## `kaggle`上的分析案例:Who not to fly with...\n",
    "\n",
    "kaggle上的一个经典分析案例学习.\n",
    "\n",
    ">https://www.kaggle.com/garydee/who-not-to-fly-with"
   ]
  },
  {
   "cell_type": "code",
   "execution_count": null,
   "metadata": {},
   "outputs": [
    {
     "data": {
      "text/html": [
       "<div>\n",
       "<style>\n",
       "    .dataframe thead tr:only-child th {\n",
       "        text-align: right;\n",
       "    }\n",
       "\n",
       "    .dataframe thead th {\n",
       "        text-align: left;\n",
       "    }\n",
       "\n",
       "    .dataframe tbody tr th {\n",
       "        vertical-align: top;\n",
       "    }\n",
       "</style>\n",
       "<table border=\"1\" class=\"dataframe\">\n",
       "  <thead>\n",
       "    <tr>\n",
       "      <th></th>\n",
       "      <th colspan=\"2\" halign=\"left\">Fatalities</th>\n",
       "    </tr>\n",
       "    <tr>\n",
       "      <th></th>\n",
       "      <th>sum</th>\n",
       "      <th>count</th>\n",
       "    </tr>\n",
       "    <tr>\n",
       "      <th>Operator</th>\n",
       "      <th></th>\n",
       "      <th></th>\n",
       "    </tr>\n",
       "  </thead>\n",
       "  <tbody>\n",
       "    <tr>\n",
       "      <th>A B Aerotransport</th>\n",
       "      <td>3.0</td>\n",
       "      <td>2</td>\n",
       "    </tr>\n",
       "    <tr>\n",
       "      <th>AB Aerotransport</th>\n",
       "      <td>58.0</td>\n",
       "      <td>3</td>\n",
       "    </tr>\n",
       "    <tr>\n",
       "      <th>ACES Colombia</th>\n",
       "      <td>40.0</td>\n",
       "      <td>3</td>\n",
       "    </tr>\n",
       "    <tr>\n",
       "      <th>ADC Airlines</th>\n",
       "      <td>97.0</td>\n",
       "      <td>2</td>\n",
       "    </tr>\n",
       "    <tr>\n",
       "      <th>ADES Colombia</th>\n",
       "      <td>22.0</td>\n",
       "      <td>2</td>\n",
       "    </tr>\n",
       "  </tbody>\n",
       "</table>\n",
       "</div>"
      ],
      "text/plain": [
       "                  Fatalities      \n",
       "                         sum count\n",
       "Operator                          \n",
       "A B Aerotransport        3.0     2\n",
       "AB Aerotransport        58.0     3\n",
       "ACES Colombia           40.0     3\n",
       "ADC Airlines            97.0     2\n",
       "ADES Colombia           22.0     2"
      ]
     },
     "execution_count": 5,
     "metadata": {},
     "output_type": "execute_result"
    }
   ],
   "source": [
    "operator = ac[['Operator','Fatalities']].groupby('Operator').agg(['sum','count'])\n",
    "operator[:5]"
   ]
  },
  {
   "cell_type": "markdown",
   "metadata": {
    "toc-hr-collapsed": false
   },
   "source": [
    "### 针对航空公司的数据分析和整理\n",
    "\n",
    "`ac[['Operator','Fatalities']]` 筛选出了全部的operator和fatalities,即航空公司和死亡人数\n",
    "\n",
    "`.groupby('Operator')`则对前面的数据进行分组, 形成了一个通过operator进行分类的对象\n",
    "\n",
    "`agg` is an alias for aggregate. Use the alias.\n",
    "\n",
    "A passed user-defined-function will be passed a Series for evaluation.\n",
    "\n",
    "**Examples**\n",
    "```python\n",
    "df = pd.DataFrame([[1, 2, 3],\n",
    "                   [4, 5, 6],\n",
    "                   [7, 8, 9],\n",
    "                   [np.nan, np.nan, np.nan]],\n",
    "                  columns=['A', 'B', 'C'])\n",
    "```\n",
    "Aggregate these functions over the rows.\n",
    "```python\n",
    "df.agg(['sum', 'min'])\n",
    "        A     B     C\n",
    "sum  12.0  15.0  18.0\n",
    "min   1.0   2.0   3.0\n",
    "```\n",
    "Different aggregations per column.\n",
    "```python\n",
    "df.agg({'A' : ['sum', 'min'], 'B' : ['min', 'max']})\n",
    "        A    B\n",
    "max   NaN  8.0\n",
    "min   1.0  2.0\n",
    "sum  12.0  NaN\n",
    "```\n",
    "Aggregate over the columns.\n",
    "```python\n",
    "df.agg(\"mean\", axis=\"columns\")\n",
    "0    2.0\n",
    "1    5.0\n",
    "2    8.0\n",
    "3    NaN\n",
    "dtype: float64\n",
    "```\n",
    "\n",
    "Examples\n",
    "\n",
    "```python \n",
    "df = pd.DataFrame({'A': [1, 1, 2, 2],\n",
    "                      'B': [1, 2, 3, 4],\n",
    "                      'C': np.random.randn(4)})\n",
    "df\n",
    "   A  B         C\n",
    "0  1  1  0.362838\n",
    "1  1  2  0.227877\n",
    "2  2  3  1.267767\n",
    "3  2  4 -0.562860\n",
    "```\n",
    "The aggregation is for each column.\n",
    "```python\n",
    "df.groupby('A').agg('min')\n",
    "   B         C\n",
    "A\n",
    "1  1  0.227877\n",
    "2  3 -0.562860\n",
    "```\n",
    "Multiple aggregations\n",
    "```python\n",
    "df.groupby('A').agg(['min', 'max'])\n",
    "    B             C\n",
    "  min max       min       max\n",
    "A\n",
    "1   1   2  0.227877  0.362838\n",
    "2   3   4 -0.562860  1.267767\n",
    "```\n",
    "Select a column for aggregation\n",
    "```python\n",
    "df.groupby('A').B.agg(['min', 'max'])\n",
    "   min  max\n",
    "A\n",
    "1    1    2\n",
    "2    3    4\n",
    "```\n",
    "Different aggregations per column\n",
    "```python\n",
    "df.groupby('A').agg({'B': ['min', 'max'], 'C': 'sum'})\n",
    "    B             C\n",
    "  min max       sum\n",
    "A\n",
    "1   1   2  0.590716\n",
    "2   3   4  0.704907\n",
    "```\n",
    "\n",
    "`agg`可以一次传递多个计算的参数, 比如: sum,max,min,mean,count"
   ]
  },
  {
   "cell_type": "code",
   "execution_count": null,
   "metadata": {},
   "outputs": [
    {
     "data": {
      "text/plain": [
       "<matplotlib.axes._subplots.AxesSubplot at 0x239dabec6d8>"
      ]
     },
     "execution_count": 6,
     "metadata": {},
     "output_type": "execute_result"
    },
    {
     "data": {
      "image/png": "[encoded data removed]",
      "text/plain": [
       "<matplotlib.figure.Figure at 0x239da8e3b00>"
      ]
     },
     "metadata": {},
     "output_type": "display_data"
    }
   ],
   "source": [
    "#设置图像空间为2*2,并分别命名为ax1-ax4\n",
    "#ax1|ax2\n",
    "#ax3|ax4\n",
    "fig_ops,((ax1, ax2), (ax3, ax4))=plt.subplots(2,2,sharex=True)\n",
    "#做了一次accident的分析\n",
    "accidents = operator['Fatalities','count'].sort_values(ascending=False)\n",
    "totalacc = accidents.sum()\n",
    "#利用DataFrame的'矩阵'计算,得到结果,不需要采用循环来计算\n",
    "accprop = accidents/totalacc\n",
    "accidents.head(10).plot(kind='bar',title='Accidents by Operator',ax=ax1,grid=True,rot=90)\n",
    "accprop.head(10).plot(kind='bar',title='Proportion of Total Accidents',ax=ax2,grid=True,rot=90)\n",
    "fatalities = operator['Fatalities','sum'].sort_values(ascending=False)\n",
    "fatalities.head(10).plot(kind='bar',title='Fatalities by Operator',ax=ax3,grid=True,rot=90)\n",
    "totalfatal = fatalities.sum()\n",
    "fatalprop = fatalities/totalfatal\n",
    "fatalprop.head(10).plot(kind='bar',title='Proportion of total Fatalities',ax=ax4,grid=True,rot=90)"
   ]
  },
  {
   "cell_type": "code",
   "execution_count": null,
   "metadata": {},
   "outputs": [],
   "source": [
    "props = operator['Fatalities'].reset_index()    #reset_index将index列还原为普通数据列"
   ]
  }
 ],
 "metadata": {
  "kernelspec": {
   "display_name": "Python 3",
   "language": "python",
   "name": "python3"
  },
  "language_info": {
   "codemirror_mode": {
    "name": "ipython",
    "version": 3
   },
   "file_extension": ".py",
   "mimetype": "text/x-python",
   "name": "python",
   "nbconvert_exporter": "python",
   "pygments_lexer": "ipython3",
   "version": "3.6.3"
  },
  "toc-autonumbering": false,
  "toc-showcode": false,
  "toc-showmarkdowntxt": true
 },
 "nbformat": 4,
 "nbformat_minor": 2
}

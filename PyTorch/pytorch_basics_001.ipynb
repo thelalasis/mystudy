{
  "nbformat": 4,
  "nbformat_minor": 0,
  "metadata": {
    "colab": {
      "name": "2.1.1.pytorch-basics-tensor.ipynb",
      "version": "0.3.2",
      "provenance": [],
      "toc_visible": true,
      "include_colab_link": true
    },
    "kernelspec": {
      "display_name": "pytorch 1.0",
      "language": "python",
      "name": "pytorch1"
    }
  },
  "cells": [
    {
      "cell_type": "markdown",
      "metadata": {
        "id": "view-in-github",
        "colab_type": "text"
      },
      "source": [
        "<a href=\"https://colab.research.google.com/github/thelalasis/mystudy/blob/master/PyTorch/pytorch_basics_001.ipynb\" target=\"_parent\"><img src=\"https://colab.research.google.com/assets/colab-badge.svg\" alt=\"Open In Colab\"/></a>"
      ]
    },
    {
      "metadata": {
        "id": "RkGMnUmnpctD",
        "colab_type": "text"
      },
      "cell_type": "markdown",
      "source": [
        "# PyTorch 基础 : 张量\n",
        "在第一章中我们已经通过官方的入门教程对PyTorch有了一定的了解，这一章会详细介绍PyTorch 里面的基础知识。\n",
        "全部掌握了这些基础知识，在后面的应用中才能更加快速进阶，如果你已经对PyTorch有一定的了解，可以跳过此章"
      ]
    },
    {
      "metadata": {
        "id": "mwvct05lpctL",
        "colab_type": "code",
        "colab": {},
        "outputId": "c7827982-e03a-4d86-d2a7-bcf191000770"
      },
      "cell_type": "code",
      "source": [
        "# 首先要引入相关的包\n",
        "import torch\n",
        "import numpy as np\n",
        "#打印一下版本\n",
        "torch.__version__"
      ],
      "execution_count": 0,
      "outputs": [
        {
          "output_type": "execute_result",
          "data": {
            "text/plain": [
              "'1.0.0'"
            ]
          },
          "metadata": {
            "tags": []
          },
          "execution_count": 1
        }
      ]
    },
    {
      "metadata": {
        "id": "iOMMQkkLpcts",
        "colab_type": "text"
      },
      "cell_type": "markdown",
      "source": [
        "## 张量(Tensor)\n",
        "张量的英文是Tensor，它是PyTorch里面基础的运算单位,与Numpy的ndarray相同都表示的是一个多维的矩阵。\n",
        "与ndarray的最大区别就是，PyTorch的Tensor可以在 GPU 上运行，而 numpy 的 ndarray 只能在 CPU 上运行，在GPU上运行大大加快了运算速度。\n",
        "\n",
        "下面我们生成一个简单的张量"
      ]
    },
    {
      "metadata": {
        "id": "avkdBb7Xpctu",
        "colab_type": "code",
        "colab": {},
        "outputId": "831c74c2-3175-4f32-d331-01647fbc994c"
      },
      "cell_type": "code",
      "source": [
        "x = torch.rand(2, 3)\n",
        "x"
      ],
      "execution_count": 0,
      "outputs": [
        {
          "output_type": "execute_result",
          "data": {
            "text/plain": [
              "tensor([[0.6904, 0.7419, 0.8010],\n",
              "        [0.1722, 0.2442, 0.8181]])"
            ]
          },
          "metadata": {
            "tags": []
          },
          "execution_count": 2
        }
      ]
    },
    {
      "metadata": {
        "id": "QwgETsO6pcuB",
        "colab_type": "text"
      },
      "cell_type": "markdown",
      "source": [
        "以上生成了一个，2行3列的的矩阵，我们看一下他的大小："
      ]
    },
    {
      "metadata": {
        "id": "OUfz1EV8pcuE",
        "colab_type": "code",
        "colab": {},
        "outputId": "47eb8927-2b4a-456f-f8eb-e57cde21ba4d"
      },
      "cell_type": "code",
      "source": [
        "# 可以使用与numpy相同的shape属性查看\n",
        "print(x.shape)\n",
        "# 也可以使用size()函数，返回的结果都是相同的\n",
        "print(x.size())"
      ],
      "execution_count": 0,
      "outputs": [
        {
          "output_type": "stream",
          "text": [
            "torch.Size([2, 3])\n",
            "torch.Size([2, 3])\n"
          ],
          "name": "stdout"
        }
      ]
    },
    {
      "metadata": {
        "id": "ozDoEIWzpcuc",
        "colab_type": "text"
      },
      "cell_type": "markdown",
      "source": [
        "张量（Tensor）是一个定义在一些向量空间和一些对偶空间的笛卡儿积上的多重线性映射，其坐标是|n|维空间内，有|n|个分量的一种量， 其中每个分量都是坐标的函数， 而在坐标变换时，这些分量也依照某些规则作线性变换。r称为该张量的秩或阶（与矩阵的秩和阶均无关系）。 (来自百度百科)\n",
        "\n",
        "下面我们来生成一些多维的张量："
      ]
    },
    {
      "metadata": {
        "id": "50pWyj_FpcvZ",
        "colab_type": "code",
        "colab": {},
        "outputId": "0740ef36-a8c6-4ffc-cb4a-7de4997c242a"
      },
      "cell_type": "code",
      "source": [
        "y=torch.rand(2,3,4,5)\n",
        "print(y.size())\n",
        "y"
      ],
      "execution_count": 0,
      "outputs": [
        {
          "output_type": "stream",
          "text": [
            "torch.Size([2, 3, 4, 5])\n"
          ],
          "name": "stdout"
        },
        {
          "output_type": "execute_result",
          "data": {
            "text/plain": [
              "tensor([[[[0.9071, 0.0616, 0.0006, 0.6031, 0.0714],\n",
              "          [0.6592, 0.9700, 0.0253, 0.0726, 0.5360],\n",
              "          [0.5416, 0.1138, 0.9592, 0.6779, 0.6501],\n",
              "          [0.0546, 0.8287, 0.7748, 0.4352, 0.9232]],\n",
              "\n",
              "         [[0.0730, 0.4228, 0.7407, 0.4099, 0.1482],\n",
              "          [0.5408, 0.9156, 0.6554, 0.5787, 0.9775],\n",
              "          [0.4262, 0.3644, 0.1993, 0.4143, 0.5757],\n",
              "          [0.9307, 0.8839, 0.8462, 0.0933, 0.6688]],\n",
              "\n",
              "         [[0.4447, 0.0929, 0.9882, 0.5392, 0.1159],\n",
              "          [0.4790, 0.5115, 0.4005, 0.9486, 0.0054],\n",
              "          [0.8955, 0.8097, 0.1227, 0.2250, 0.5830],\n",
              "          [0.8483, 0.2070, 0.1067, 0.4727, 0.5095]]],\n",
              "\n",
              "\n",
              "        [[[0.9438, 0.2601, 0.2885, 0.5457, 0.7528],\n",
              "          [0.2971, 0.2171, 0.3910, 0.1924, 0.2570],\n",
              "          [0.7491, 0.9749, 0.2703, 0.2198, 0.9472],\n",
              "          [0.1216, 0.6647, 0.8809, 0.0125, 0.5513]],\n",
              "\n",
              "         [[0.0870, 0.6622, 0.7252, 0.4783, 0.0160],\n",
              "          [0.7832, 0.6050, 0.7469, 0.7947, 0.8052],\n",
              "          [0.1755, 0.4489, 0.0602, 0.8073, 0.3028],\n",
              "          [0.9937, 0.6780, 0.9425, 0.0059, 0.0451]],\n",
              "\n",
              "         [[0.3851, 0.8742, 0.5932, 0.4899, 0.8354],\n",
              "          [0.8577, 0.3705, 0.0229, 0.7097, 0.7557],\n",
              "          [0.1505, 0.3527, 0.0843, 0.0088, 0.8741],\n",
              "          [0.6041, 0.8797, 0.6189, 0.9495, 0.1479]]]])"
            ]
          },
          "metadata": {
            "tags": []
          },
          "execution_count": 4
        }
      ]
    },
    {
      "metadata": {
        "id": "nxu-W50wpcvr",
        "colab_type": "text"
      },
      "cell_type": "markdown",
      "source": [
        "在同构的意义下，第零阶张量 （r = 0） 为标量 （Scalar），第一阶张量 （r = 1） 为向量 （Vector）， 第二阶张量 （r = 2） 则成为矩阵 （Matrix），第三阶以上的统称为多维张量。\n",
        "\n",
        "其中要特别注意的就是标量，我们先生成一个标量：\n"
      ]
    },
    {
      "metadata": {
        "scrolled": true,
        "id": "sFlTE9vFpcvv",
        "colab_type": "code",
        "colab": {},
        "outputId": "50a8fb12-2ae8-4c91-f13a-988bf2ae2cd7"
      },
      "cell_type": "code",
      "source": [
        "#我们直接使用现有数字生成\n",
        "scalar =torch.tensor(3.1433223)\n",
        "print(scalar)\n",
        "#打印标量的大小\n",
        "scalar.size()"
      ],
      "execution_count": 0,
      "outputs": [
        {
          "output_type": "stream",
          "text": [
            "tensor(3.1433)\n"
          ],
          "name": "stdout"
        },
        {
          "output_type": "execute_result",
          "data": {
            "text/plain": [
              "torch.Size([])"
            ]
          },
          "metadata": {
            "tags": []
          },
          "execution_count": 5
        }
      ]
    },
    {
      "metadata": {
        "id": "8edFGyJRpcwA",
        "colab_type": "text"
      },
      "cell_type": "markdown",
      "source": [
        "对于标量，我们可以直接使用 .item() 从中取出其对应的python对象的数值"
      ]
    },
    {
      "metadata": {
        "id": "ARABcP-mpcwB",
        "colab_type": "code",
        "colab": {},
        "outputId": "5e3c2f54-398d-4631-91da-9ccb0fda18c4"
      },
      "cell_type": "code",
      "source": [
        "scalar.item()"
      ],
      "execution_count": 0,
      "outputs": [
        {
          "output_type": "execute_result",
          "data": {
            "text/plain": [
              "3.143322229385376"
            ]
          },
          "metadata": {
            "tags": []
          },
          "execution_count": 6
        }
      ]
    },
    {
      "metadata": {
        "id": "oJNBmBuXpcwN",
        "colab_type": "text"
      },
      "cell_type": "markdown",
      "source": [
        "特别的：如果张量中只有一个元素的tensor也可以调用`tensor.item`方法"
      ]
    },
    {
      "metadata": {
        "id": "VwARe4o9pcwP",
        "colab_type": "code",
        "colab": {},
        "outputId": "4389ea75-8e8b-4892-acd6-61e4c785475f"
      },
      "cell_type": "code",
      "source": [
        "tensor = torch.tensor([3.1433223]) \n",
        "print(tensor)\n",
        "tensor.size()"
      ],
      "execution_count": 0,
      "outputs": [
        {
          "output_type": "stream",
          "text": [
            "tensor([3.1433])\n"
          ],
          "name": "stdout"
        },
        {
          "output_type": "execute_result",
          "data": {
            "text/plain": [
              "torch.Size([1])"
            ]
          },
          "metadata": {
            "tags": []
          },
          "execution_count": 7
        }
      ]
    },
    {
      "metadata": {
        "id": "ROD8y1JXpcwZ",
        "colab_type": "code",
        "colab": {},
        "outputId": "fe37f161-e0c2-49a8-c951-11145710504e"
      },
      "cell_type": "code",
      "source": [
        "tensor.item()"
      ],
      "execution_count": 0,
      "outputs": [
        {
          "output_type": "execute_result",
          "data": {
            "text/plain": [
              "3.143322229385376"
            ]
          },
          "metadata": {
            "tags": []
          },
          "execution_count": 8
        }
      ]
    },
    {
      "metadata": {
        "id": "doeLyQ38pcwf",
        "colab_type": "text"
      },
      "cell_type": "markdown",
      "source": [
        "### 基本类型\n",
        "Tensor的基本数据类型有五种：\n",
        "- 32位浮点型：torch.FloatTensor。 (默认)\n",
        "- 64位整型：torch.LongTensor。\n",
        "- 32位整型：torch.IntTensor。\n",
        "- 16位整型：torch.ShortTensor。\n",
        "- 64位浮点型：torch.DoubleTensor。\n",
        "\n",
        "除以上数字类型外，还有\n",
        "byte和chart型"
      ]
    },
    {
      "metadata": {
        "id": "ubaRb4rxpcwg",
        "colab_type": "code",
        "colab": {},
        "outputId": "82268a2d-e30a-4b79-a9c6-d55e8e8b2b64"
      },
      "cell_type": "code",
      "source": [
        "long=tensor.long()\n",
        "long"
      ],
      "execution_count": 0,
      "outputs": [
        {
          "output_type": "execute_result",
          "data": {
            "text/plain": [
              "tensor([3])"
            ]
          },
          "metadata": {
            "tags": []
          },
          "execution_count": 9
        }
      ]
    },
    {
      "metadata": {
        "id": "C6-9ce64pcwm",
        "colab_type": "code",
        "colab": {},
        "outputId": "5982dee4-fbca-4011-e0a0-5421cfc427a5"
      },
      "cell_type": "code",
      "source": [
        "half=tensor.half()\n",
        "half"
      ],
      "execution_count": 0,
      "outputs": [
        {
          "output_type": "execute_result",
          "data": {
            "text/plain": [
              "tensor([3.1426], dtype=torch.float16)"
            ]
          },
          "metadata": {
            "tags": []
          },
          "execution_count": 10
        }
      ]
    },
    {
      "metadata": {
        "id": "9JAcdIBnpcwu",
        "colab_type": "code",
        "colab": {},
        "outputId": "24eb8a15-2315-440a-93ac-8f7f02d30360"
      },
      "cell_type": "code",
      "source": [
        "int_t=tensor.int()\n",
        "int_t"
      ],
      "execution_count": 0,
      "outputs": [
        {
          "output_type": "execute_result",
          "data": {
            "text/plain": [
              "tensor([3], dtype=torch.int32)"
            ]
          },
          "metadata": {
            "tags": []
          },
          "execution_count": 11
        }
      ]
    },
    {
      "metadata": {
        "id": "BdL9VNDIpcw0",
        "colab_type": "code",
        "colab": {},
        "outputId": "a84bdf99-882a-4b07-9909-6a81754f8895"
      },
      "cell_type": "code",
      "source": [
        "flo = tensor.float()\n",
        "flo"
      ],
      "execution_count": 0,
      "outputs": [
        {
          "output_type": "execute_result",
          "data": {
            "text/plain": [
              "tensor([3.1433])"
            ]
          },
          "metadata": {
            "tags": []
          },
          "execution_count": 12
        }
      ]
    },
    {
      "metadata": {
        "id": "3wwtqVnbpcw8",
        "colab_type": "code",
        "colab": {},
        "outputId": "eea71242-96a9-4da1-83d9-fdae8999368d"
      },
      "cell_type": "code",
      "source": [
        "short = tensor.short()\n",
        "short"
      ],
      "execution_count": 0,
      "outputs": [
        {
          "output_type": "execute_result",
          "data": {
            "text/plain": [
              "tensor([3], dtype=torch.int16)"
            ]
          },
          "metadata": {
            "tags": []
          },
          "execution_count": 13
        }
      ]
    },
    {
      "metadata": {
        "id": "5bB1sHBMpcxB",
        "colab_type": "code",
        "colab": {},
        "outputId": "4c5057e1-84fd-4740-e1d1-1930bc9ae1eb"
      },
      "cell_type": "code",
      "source": [
        "ch = tensor.char()\n",
        "ch"
      ],
      "execution_count": 0,
      "outputs": [
        {
          "output_type": "execute_result",
          "data": {
            "text/plain": [
              "tensor([3], dtype=torch.int8)"
            ]
          },
          "metadata": {
            "tags": []
          },
          "execution_count": 14
        }
      ]
    },
    {
      "metadata": {
        "id": "9tzKX2c4pcxK",
        "colab_type": "code",
        "colab": {},
        "outputId": "63782e6b-d45c-447b-f590-710ba4e97b06"
      },
      "cell_type": "code",
      "source": [
        "bt = tensor.byte()\n",
        "bt"
      ],
      "execution_count": 0,
      "outputs": [
        {
          "output_type": "execute_result",
          "data": {
            "text/plain": [
              "tensor([3], dtype=torch.uint8)"
            ]
          },
          "metadata": {
            "tags": []
          },
          "execution_count": 15
        }
      ]
    },
    {
      "metadata": {
        "id": "37eAXGotpcxP",
        "colab_type": "text"
      },
      "cell_type": "markdown",
      "source": [
        "### Numpy转换\n",
        "使用numpy方法将Tensor转为ndarray"
      ]
    },
    {
      "metadata": {
        "scrolled": false,
        "id": "Szfo-AsApcxP",
        "colab_type": "code",
        "colab": {},
        "outputId": "952d2647-aba2-4345-f8f3-d501b77c9ec4"
      },
      "cell_type": "code",
      "source": [
        "a = torch.randn((3, 2))\n",
        "# tensor转化为numpy\n",
        "numpy_a = a.numpy()\n",
        "print(numpy_a)"
      ],
      "execution_count": 0,
      "outputs": [
        {
          "output_type": "stream",
          "text": [
            "[[ 0.46819344  1.3774964 ]\n",
            " [ 0.9491934   1.4543315 ]\n",
            " [-0.42792308  0.99790514]]\n"
          ],
          "name": "stdout"
        }
      ]
    },
    {
      "metadata": {
        "id": "oB54i5NZpcxW",
        "colab_type": "text"
      },
      "cell_type": "markdown",
      "source": [
        "numpy转化为Tensor\n"
      ]
    },
    {
      "metadata": {
        "scrolled": false,
        "id": "81xsIYkrpcxX",
        "colab_type": "code",
        "colab": {},
        "outputId": "1adb468d-e9e9-44df-cc31-f953b4c4bbde"
      },
      "cell_type": "code",
      "source": [
        "torch_a = torch.from_numpy(numpy_a)\n",
        "torch_a"
      ],
      "execution_count": 0,
      "outputs": [
        {
          "output_type": "execute_result",
          "data": {
            "text/plain": [
              "tensor([[ 0.4682,  1.3775],\n",
              "        [ 0.9492,  1.4543],\n",
              "        [-0.4279,  0.9979]])"
            ]
          },
          "metadata": {
            "tags": []
          },
          "execution_count": 17
        }
      ]
    },
    {
      "metadata": {
        "id": "FFFWDVhvpcxg",
        "colab_type": "text"
      },
      "cell_type": "markdown",
      "source": [
        "***Tensor和numpy对象共享内存，所以他们之间的转换很快，而且几乎不会消耗什么资源。但这也意味着，如果其中一个变了，另外一个也会随之改变。***"
      ]
    },
    {
      "metadata": {
        "id": "avGgo8Akpcxh",
        "colab_type": "text"
      },
      "cell_type": "markdown",
      "source": [
        "### 设备间转换\n",
        "一般情况下可以使用.cuda方法将tensor移动到gpu，这步操作需要cuda设备支持"
      ]
    },
    {
      "metadata": {
        "id": "LVf6_k-rpcxi",
        "colab_type": "code",
        "colab": {},
        "outputId": "e18ffac8-a2de-4f0b-ead9-88e1a464ed02"
      },
      "cell_type": "code",
      "source": [
        "cpu_a=torch.rand(4, 3)\n",
        "cpu_a.type()"
      ],
      "execution_count": 0,
      "outputs": [
        {
          "output_type": "execute_result",
          "data": {
            "text/plain": [
              "'torch.FloatTensor'"
            ]
          },
          "metadata": {
            "tags": []
          },
          "execution_count": 18
        }
      ]
    },
    {
      "metadata": {
        "scrolled": true,
        "id": "TdqXSVHNpcxl",
        "colab_type": "code",
        "colab": {},
        "outputId": "375eecc2-6aaf-4020-d668-3dc3c047db1f"
      },
      "cell_type": "code",
      "source": [
        "gpu_a=cpu_a.cuda()\n",
        "gpu_a.type()"
      ],
      "execution_count": 0,
      "outputs": [
        {
          "output_type": "execute_result",
          "data": {
            "text/plain": [
              "'torch.cuda.FloatTensor'"
            ]
          },
          "metadata": {
            "tags": []
          },
          "execution_count": 19
        }
      ]
    },
    {
      "metadata": {
        "id": "tlmefdk4pcxu",
        "colab_type": "text"
      },
      "cell_type": "markdown",
      "source": [
        "使用.cpu方法将tensor移动到cpu"
      ]
    },
    {
      "metadata": {
        "scrolled": false,
        "id": "vnA9MziNpcxv",
        "colab_type": "code",
        "colab": {},
        "outputId": "e09a1383-6ec0-4178-fbdc-e3253a2887eb"
      },
      "cell_type": "code",
      "source": [
        "cpu_b=gpu_a.cpu()\n",
        "cpu_b.type()"
      ],
      "execution_count": 0,
      "outputs": [
        {
          "output_type": "execute_result",
          "data": {
            "text/plain": [
              "'torch.FloatTensor'"
            ]
          },
          "metadata": {
            "tags": []
          },
          "execution_count": 20
        }
      ]
    },
    {
      "metadata": {
        "id": "Yizj9L-spcxx",
        "colab_type": "text"
      },
      "cell_type": "markdown",
      "source": [
        "如果我们有多GPU的情况，可以使用to方法来确定使用那个设备，这里只做个简单的实例："
      ]
    },
    {
      "metadata": {
        "id": "GfgofGAPpcxz",
        "colab_type": "code",
        "colab": {},
        "outputId": "af730a0a-2fae-404f-b759-c2c35e27a0c5"
      },
      "cell_type": "code",
      "source": [
        "#使用torch.cuda.is_available()来确定是否有cuda设备\n",
        "device = torch.device(\"cuda\" if torch.cuda.is_available() else \"cpu\")\n",
        "print(device)\n",
        "#将tensor传送到设备\n",
        "gpu_b=cpu_b.to(device)\n",
        "gpu_b.type()"
      ],
      "execution_count": 0,
      "outputs": [
        {
          "output_type": "stream",
          "text": [
            "cuda\n"
          ],
          "name": "stdout"
        },
        {
          "output_type": "execute_result",
          "data": {
            "text/plain": [
              "'torch.cuda.FloatTensor'"
            ]
          },
          "metadata": {
            "tags": []
          },
          "execution_count": 21
        }
      ]
    },
    {
      "metadata": {
        "id": "41vUxKu1pcx3",
        "colab_type": "text"
      },
      "cell_type": "markdown",
      "source": [
        "### 初始化\n",
        "Pytorch中有许多默认的初始化方法可以使用"
      ]
    },
    {
      "metadata": {
        "scrolled": true,
        "id": "ni2lFlaepcx4",
        "colab_type": "code",
        "colab": {},
        "outputId": "2e9c4d64-5d7f-447f-8085-28dd79f46ee7"
      },
      "cell_type": "code",
      "source": [
        "# 使用[0,1]均匀分布随机初始化二维数组\n",
        "rnd = torch.rand(5, 3)\n",
        "rnd"
      ],
      "execution_count": 0,
      "outputs": [
        {
          "output_type": "execute_result",
          "data": {
            "text/plain": [
              "tensor([[0.3804, 0.0297, 0.5241],\n",
              "        [0.4111, 0.8887, 0.4642],\n",
              "        [0.7302, 0.5913, 0.7182],\n",
              "        [0.3048, 0.8055, 0.2176],\n",
              "        [0.6195, 0.1620, 0.7726]])"
            ]
          },
          "metadata": {
            "tags": []
          },
          "execution_count": 22
        }
      ]
    },
    {
      "metadata": {
        "id": "A4-1f7pbpcx9",
        "colab_type": "code",
        "colab": {},
        "outputId": "a13a130f-5c1e-4f7d-fa45-473a8dc775e9"
      },
      "cell_type": "code",
      "source": [
        "##初始化，使用1填充\n",
        "one = torch.ones(2, 2)\n",
        "one"
      ],
      "execution_count": 0,
      "outputs": [
        {
          "output_type": "execute_result",
          "data": {
            "text/plain": [
              "tensor([[1., 1.],\n",
              "        [1., 1.]])"
            ]
          },
          "metadata": {
            "tags": []
          },
          "execution_count": 23
        }
      ]
    },
    {
      "metadata": {
        "id": "NUYqmAbJpcyE",
        "colab_type": "code",
        "colab": {},
        "outputId": "a5f49683-9972-4925-ce3f-64db7813fa52"
      },
      "cell_type": "code",
      "source": [
        "##初始化，使用0填充\n",
        "zero=torch.zeros(2,2)\n",
        "zero"
      ],
      "execution_count": 0,
      "outputs": [
        {
          "output_type": "execute_result",
          "data": {
            "text/plain": [
              "tensor([[0., 0.],\n",
              "        [0., 0.]])"
            ]
          },
          "metadata": {
            "tags": []
          },
          "execution_count": 24
        }
      ]
    },
    {
      "metadata": {
        "id": "pEhUst6_pcyH",
        "colab_type": "code",
        "colab": {},
        "outputId": "4c41b527-2c99-42a1-fd4a-ddf1622f8b59"
      },
      "cell_type": "code",
      "source": [
        "#初始化一个单位矩阵，即对角线为1 其他为0\n",
        "eye=torch.eye(2,2)\n",
        "eye"
      ],
      "execution_count": 0,
      "outputs": [
        {
          "output_type": "execute_result",
          "data": {
            "text/plain": [
              "tensor([[1., 0.],\n",
              "        [0., 1.]])"
            ]
          },
          "metadata": {
            "tags": []
          },
          "execution_count": 25
        }
      ]
    },
    {
      "metadata": {
        "id": "Sy_by7nDpcyL",
        "colab_type": "text"
      },
      "cell_type": "markdown",
      "source": [
        "### 常用方法\n",
        "PyTorch中对张量的操作api 和 NumPy 非常相似，如果熟悉 NumPy 中的操作，那么 他们二者 基本是一致的："
      ]
    },
    {
      "metadata": {
        "id": "bpZgEiPTpcyM",
        "colab_type": "code",
        "colab": {},
        "outputId": "bb191786-bbc6-482a-b5ec-d94a0370bd93"
      },
      "cell_type": "code",
      "source": [
        "x = torch.randn(3, 3)\n",
        "print(x)"
      ],
      "execution_count": 0,
      "outputs": [
        {
          "output_type": "stream",
          "text": [
            "tensor([[ 0.6922, -0.4824,  0.8594],\n",
            "        [ 0.4509, -0.8155, -0.0368],\n",
            "        [ 1.3533,  0.5545, -0.0509]])\n"
          ],
          "name": "stdout"
        }
      ]
    },
    {
      "metadata": {
        "id": "6ceW3BGspcyQ",
        "colab_type": "code",
        "colab": {},
        "outputId": "392c0e85-40b6-4c72-b3a2-132eecca7a91"
      },
      "cell_type": "code",
      "source": [
        "# 沿着行取最大值\n",
        "max_value, max_idx = torch.max(x, dim=1)\n",
        "print(max_value, max_idx)"
      ],
      "execution_count": 0,
      "outputs": [
        {
          "output_type": "stream",
          "text": [
            "tensor([0.8594, 0.4509, 1.3533]) tensor([2, 0, 0])\n"
          ],
          "name": "stdout"
        }
      ]
    },
    {
      "metadata": {
        "id": "uSMB62DepcyT",
        "colab_type": "code",
        "colab": {},
        "outputId": "4746cbc5-bdab-4fa0-c694-a5daeeff26e3"
      },
      "cell_type": "code",
      "source": [
        "# 每行 x 求和\n",
        "sum_x = torch.sum(x, dim=1)\n",
        "print(sum_x)"
      ],
      "execution_count": 0,
      "outputs": [
        {
          "output_type": "stream",
          "text": [
            "tensor([ 1.0692, -0.4014,  1.8568])\n"
          ],
          "name": "stdout"
        }
      ]
    },
    {
      "metadata": {
        "id": "4U4bNKI0pcyX",
        "colab_type": "code",
        "colab": {},
        "outputId": "3bbd4d8b-25b4-4241-cc44-246aaac2ad1d"
      },
      "cell_type": "code",
      "source": [
        "y=torch.randn(3, 3)\n",
        "z = x + y\n",
        "print(z)"
      ],
      "execution_count": 0,
      "outputs": [
        {
          "output_type": "stream",
          "text": [
            "tensor([[-0.3821, -2.6932, -1.3884],\n",
            "        [ 0.7468, -0.7697, -0.0883],\n",
            "        [ 0.7688, -1.3485,  0.7517]])\n"
          ],
          "name": "stdout"
        }
      ]
    },
    {
      "metadata": {
        "id": "WV1RITZcpcye",
        "colab_type": "text"
      },
      "cell_type": "markdown",
      "source": [
        "正如官方60分钟教程中所说，以_为结尾的，均会改变调用值"
      ]
    },
    {
      "metadata": {
        "id": "1py1n8VCpcyh",
        "colab_type": "code",
        "colab": {},
        "outputId": "0a01dae8-6ea3-4a3f-e74e-4ad3b8a0f540"
      },
      "cell_type": "code",
      "source": [
        "# add 完成后x的值改变了\n",
        "x.add_(y)\n",
        "print(x)"
      ],
      "execution_count": 0,
      "outputs": [
        {
          "output_type": "stream",
          "text": [
            "tensor([[-0.3821, -2.6932, -1.3884],\n",
            "        [ 0.7468, -0.7697, -0.0883],\n",
            "        [ 0.7688, -1.3485,  0.7517]])\n"
          ],
          "name": "stdout"
        }
      ]
    },
    {
      "metadata": {
        "id": "B5IVrcvlpcys",
        "colab_type": "text"
      },
      "cell_type": "markdown",
      "source": [
        "张量的基本操作都介绍的的差不多了，下一章介绍PyTorch的自动求导机制"
      ]
    }
  ]
}